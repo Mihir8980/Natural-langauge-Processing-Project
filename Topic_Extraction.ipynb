{
 "cells": [
  {
   "cell_type": "code",
   "execution_count": 3,
   "metadata": {},
   "outputs": [],
   "source": [
    "import pandas as pd\n",
    "import numpy as np\n",
    "from sklearn.feature_extraction.text import CountVectorizer"
   ]
  },
  {
   "cell_type": "code",
   "execution_count": 5,
   "metadata": {},
   "outputs": [],
   "source": [
    "def topic_extraction(data_frame):\n",
    "    X_train = data_frame.Title\n",
    "    vectorizer = CountVectorizer(stop_words='english')\n",
    "    X_train_dtm = vectorizer.fit_transform(X_train)\n",
    "    vocab = np.array(vectorizer.get_feature_names())\n",
    "    from sklearn import decomposition\n",
    "\n",
    "    num_topics = 5\n",
    "    num_top_words = 5\n",
    "    NMF_obj = decomposition.NMF(n_components=num_topics, random_state=1)\n",
    "    \n",
    "    document_topics = NMF_obj.fit_transform(X_train_dtm)\n",
    "    #document_topics.shape\n",
    "    \n",
    "    topics_word =[]\n",
    "    for topics in NMF_obj.components_:\n",
    "        word_idx = np.argsort(topics)[::-1][0:num_top_words]\n",
    "        topics_word.append([vocab[i] for i in word_idx])\n",
    "    #topics_word\n",
    "    \n",
    "    data_frame_topic = pd.DataFrame(document_topics,columns=topics_word)\n",
    "    data_frame_topic_inv = data_frame_topic.T\n",
    "    #data_frame_topic\n",
    "    \n",
    "    topics_series = []\n",
    "    for i in np.arange(data_frame_topic.shape[0]):\n",
    "        topics_series.append(data_frame_topic_inv[i].argmax())\n",
    "        \n",
    "    data_frame_topic['Dominant_Topic'] = topics_series\n",
    "    data_frame['Dominant_Topic'] = topics_series\n",
    "    #data_frame_topic\n",
    "    #final_reddit_post_df\n",
    "    \n",
    "    return data_frame\n",
    "\n",
    "\n",
    "def create_dict_list_of_topics(data_frame):\n",
    "    topic_list =[]\n",
    "    uni_list = data_frame.Dominant_Topic.unique()\n",
    "    for Dominant_Topic in uni_list:\n",
    "        Dominant_Topic_str = \",\".join(Dominant_Topic)\n",
    "        topic_list.append({'value': Dominant_Topic_str, 'label': Dominant_Topic_str})\n",
    "    return topic_list"
   ]
  },
  {
   "cell_type": "code",
   "execution_count": 1,
   "metadata": {},
   "outputs": [
    {
     "ename": "ImportError",
     "evalue": "cannot import name 'Stackpy' from 'stackpy' (C:\\Users\\OM\\Anaconda3\\lib\\site-packages\\stackpy\\__init__.py)",
     "output_type": "error",
     "traceback": [
      "\u001b[1;31m---------------------------------------------------------------------------\u001b[0m",
      "\u001b[1;31mImportError\u001b[0m                               Traceback (most recent call last)",
      "\u001b[1;32m<ipython-input-1-f6c16656a365>\u001b[0m in \u001b[0;36m<module>\u001b[1;34m\u001b[0m\n\u001b[1;32m----> 1\u001b[1;33m \u001b[1;32mfrom\u001b[0m \u001b[0mstackpy\u001b[0m \u001b[1;32mimport\u001b[0m \u001b[0mStackpy\u001b[0m\u001b[1;33m\u001b[0m\u001b[1;33m\u001b[0m\u001b[0m\n\u001b[0m\u001b[0;32m      2\u001b[0m \u001b[0ms\u001b[0m \u001b[1;33m=\u001b[0m \u001b[0mStackpy\u001b[0m\u001b[1;33m(\u001b[0m\u001b[1;33m)\u001b[0m\u001b[1;33m\u001b[0m\u001b[1;33m\u001b[0m\u001b[0m\n",
      "\u001b[1;31mImportError\u001b[0m: cannot import name 'Stackpy' from 'stackpy' (C:\\Users\\OM\\Anaconda3\\lib\\site-packages\\stackpy\\__init__.py)"
     ]
    }
   ],
   "source": []
  },
  {
   "cell_type": "code",
   "execution_count": null,
   "metadata": {},
   "outputs": [],
   "source": []
  }
 ],
 "metadata": {
  "kernelspec": {
   "display_name": "Python 3",
   "language": "python",
   "name": "python3"
  },
  "language_info": {
   "codemirror_mode": {
    "name": "ipython",
    "version": 3
   },
   "file_extension": ".py",
   "mimetype": "text/x-python",
   "name": "python",
   "nbconvert_exporter": "python",
   "pygments_lexer": "ipython3",
   "version": "3.7.4"
  }
 },
 "nbformat": 4,
 "nbformat_minor": 2
}

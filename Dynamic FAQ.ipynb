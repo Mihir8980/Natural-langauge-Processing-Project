{
 "cells": [
  {
   "cell_type": "code",
   "execution_count": 22,
   "metadata": {},
   "outputs": [],
   "source": [
    "import praw\n",
    "import pandas as pd"
   ]
  },
  {
   "cell_type": "code",
   "execution_count": 23,
   "metadata": {},
   "outputs": [],
   "source": [
    "#Credentials Details for Reddit API\n",
    "client_id = '3S1oc6Zp2RYQmw'\n",
    "client_secret= 'rqmDyE5gcGf4Fv7mjCH4d7Cg4NM'\n",
    "username='takao13'\n",
    "password='P1zzahut'\n",
    "user_agent='autogenfaqv1'"
   ]
  },
  {
   "cell_type": "code",
   "execution_count": 24,
   "metadata": {},
   "outputs": [],
   "source": [
    "reddit = praw.Reddit(client_id = client_id,\n",
    "                     client_secret= client_secret,\n",
    "                    username=username,\n",
    "                    password=password,\n",
    "                     user_agent=user_agent)"
   ]
  },
  {
   "cell_type": "code",
   "execution_count": 25,
   "metadata": {},
   "outputs": [],
   "source": [
    "sub_Reddit = reddit.subreddit('Exams')\n",
    "hot_500_Python = sub_Reddit.hot(limit=100)\n",
    "reddit_post_df = pd.read_csv('500_Topics.csv')\n",
    "sort_reddit_post_df = reddit_post_df.sort_values(by = ['Score'],ascending = False)"
   ]
  },
  {
   "cell_type": "code",
   "execution_count": 26,
   "metadata": {},
   "outputs": [
    {
     "name": "stdout",
     "output_type": "stream",
     "text": [
      "------------------------------\n",
      "Oriental history exam due 8 days. 552 pages to learn and know almost nothing . What to do ?\n",
      "------------------------------\n",
      "------------------------------\n",
      "How do I suppress suicidal thoughts during exam times?\n",
      "------------------------------\n",
      "\n",
      "If you or someone you know is contemplating suicide, please reach out. You can find help at a National Suicide Prevention Lifeline\n",
      "\n",
      "USA: 18002738255\n",
      "US Crisis textline: 741741 text HOME\n",
      "\n",
      "United Kingdom: 116 123\n",
      "\n",
      "Trans Lifeline (877-565-8860)\n",
      "\n",
      "Others: https://en.wikipedia.org/wiki/List_of_suicide_crisis_lines\n",
      "\n",
      "https://suicidepreventionlifeline.org\n",
      "------------------------------\n",
      "How to prepare your mind and body for an exam\n",
      "------------------------------\n",
      "Good night's sleep, proper diet leading up to exam day, wear something comfortable, don't wear something that you don't always wear, stick to something where you won't be all scratchy and stiff. if you put in the work studying, you'll definitely do well\n",
      "------------------------------\n",
      "I had a very important test, I knew the material, but I didn't attempt the test and now I feel guilty. What's wrong with me?\n",
      "------------------------------\n",
      "I had a same situation to you before,well it's really hard I know , it sounds weird but I always talk to myself and reflect on my actions what really I really want to do. Don't lose hope you're gonna make it on what you really what to do :>\n",
      "------------------------------\n",
      "I had a very important test, I knew the material, but I didn't attempt the test and now I feel guilty. What's wrong with me?\n",
      "------------------------------\n",
      "------------------------------\n",
      "What’s the best morning/day routine to have when your exam is in the afternoon/evening?\n",
      "------------------------------\n",
      "------------------------------\n",
      "How to overcome this?\n",
      "------------------------------\n",
      "This used to happen to me a lot as well! Try active recall :-) Read the question, cover the answer and try to recall it from memory. If you can remember parts of it, that counts as a small success! You will get better over time and remember things faster and easier. For me, when I can recall the complete answer after 1 day, then 3 days, and after a week, I will know it at the exam as well. \n",
      "\n",
      "Best of luck with your exams!\n",
      "------------------------------\n",
      "What topics are there at the Baccalaureate?\n",
      "------------------------------\n",
      "------------------------------\n",
      "How to use Word and Sentence Stress to Score Higher in Pronunciation on Your IELTS Exam\n",
      "------------------------------\n",
      "------------------------------\n",
      "What should be your Preparation Strategy in 12th Class?\n",
      "------------------------------\n",
      "------------------------------\n",
      "How to have a good mark at the exams\n",
      "------------------------------\n",
      "------------------------------\n",
      "How to improve exam results?\n",
      "------------------------------\n",
      "------------------------------\n",
      "Who did bad on an exam today? This guy 👈\n",
      "------------------------------\n",
      "AAAAAARGHFJZNFMZBZLFJODNENEKRLKFNFKRKRKR I GOT UNDER 50 FOR MATHS IM SO FUCKING FUCKED FUCK FUCK FUCKING FUCKER FUCKING BITCH WHORE ASS MATHS KILL ME DEPRESSION MENTAL BREAKDOWN ARGH HELP IM GOING TO GET MY RESILTS BUT U ALREADY KNOW THEM FUCK IM SO FUCKING FUCK FUCK FUCK FUCK HEL0 ARGH KILL ME PLEASE PLEAAAASE\n"
     ]
    }
   ],
   "source": [
    "Q = []\n",
    "A = []\n",
    "for post in hot_500_Python:\n",
    "    if not post.stickied: \n",
    "        if (\"What\" in post.title) or (\"Why\" in post.title) or (\"How\" in post.title) or (\"When\" in post.title) or (\"Where\" in post.title) or (\"Who\" in post.title):\n",
    "            print(30*'-')\n",
    "            print(post.title)\n",
    "            print(30*'-')\n",
    "            comment = post.comments\n",
    "            for c in comment:\n",
    "                if len(c.body)>50:\n",
    "                    print(c.body)\n",
    "                    Q.append(post.title)\n",
    "                    A.append(c.body)\n",
    "                    break"
   ]
  },
  {
   "cell_type": "code",
   "execution_count": 27,
   "metadata": {},
   "outputs": [],
   "source": [
    "import xlwt\n",
    "from xlwt import Workbook\n",
    "wb = Workbook()\n",
    "sheet1 = wb.add_sheet('Sheet 1')\n",
    "k1=0\n",
    "k2=0\n",
    "for i in range(len(Q)):\n",
    "    sheet1.write(k1,0,Q[i])\n",
    "    sheet1.write(k2,1,A[i])\n",
    "    k1=k1+1\n",
    "    k2=k2+1\n",
    "wb.save('example.xls')"
   ]
  },
  {
   "cell_type": "code",
   "execution_count": 28,
   "metadata": {},
   "outputs": [
    {
     "data": {
      "text/plain": [
       "['\\nIf you or someone you know is contemplating suicide, please reach out. You can find help at a National Suicide Prevention Lifeline\\n\\nUSA: 18002738255\\nUS Crisis textline: 741741 text HOME\\n\\nUnited Kingdom: 116 123\\n\\nTrans Lifeline (877-565-8860)\\n\\nOthers: https://en.wikipedia.org/wiki/List_of_suicide_crisis_lines\\n\\nhttps://suicidepreventionlifeline.org',\n",
       " \"Good night's sleep, proper diet leading up to exam day, wear something comfortable, don't wear something that you don't always wear, stick to something where you won't be all scratchy and stiff. if you put in the work studying, you'll definitely do well\",\n",
       " \"I had a same situation to you before,well it's really hard I know , it sounds weird but I always talk to myself and reflect on my actions what really I really want to do. Don't lose hope you're gonna make it on what you really what to do :>\",\n",
       " 'This used to happen to me a lot as well! Try active recall :-) Read the question, cover the answer and try to recall it from memory. If you can remember parts of it, that counts as a small success! You will get better over time and remember things faster and easier. For me, when I can recall the complete answer after 1 day, then 3 days, and after a week, I will know it at the exam as well. \\n\\nBest of luck with your exams!',\n",
       " 'AAAAAARGHFJZNFMZBZLFJODNENEKRLKFNFKRKRKR I GOT UNDER 50 FOR MATHS IM SO FUCKING FUCKED FUCK FUCK FUCKING FUCKER FUCKING BITCH WHORE ASS MATHS KILL ME DEPRESSION MENTAL BREAKDOWN ARGH HELP IM GOING TO GET MY RESILTS BUT U ALREADY KNOW THEM FUCK IM SO FUCKING FUCK FUCK FUCK FUCK HEL0 ARGH KILL ME PLEASE PLEAAAASE']"
      ]
     },
     "execution_count": 28,
     "metadata": {},
     "output_type": "execute_result"
    }
   ],
   "source": [
    "A"
   ]
  },
  {
   "cell_type": "code",
   "execution_count": null,
   "metadata": {},
   "outputs": [],
   "source": []
  },
  {
   "cell_type": "code",
   "execution_count": null,
   "metadata": {},
   "outputs": [],
   "source": []
  },
  {
   "cell_type": "code",
   "execution_count": null,
   "metadata": {},
   "outputs": [],
   "source": []
  },
  {
   "cell_type": "code",
   "execution_count": null,
   "metadata": {},
   "outputs": [],
   "source": []
  },
  {
   "cell_type": "code",
   "execution_count": null,
   "metadata": {},
   "outputs": [],
   "source": []
  },
  {
   "cell_type": "code",
   "execution_count": null,
   "metadata": {},
   "outputs": [],
   "source": []
  },
  {
   "cell_type": "code",
   "execution_count": null,
   "metadata": {},
   "outputs": [],
   "source": []
  },
  {
   "cell_type": "code",
   "execution_count": 29,
   "metadata": {},
   "outputs": [
    {
     "name": "stdout",
     "output_type": "stream",
     "text": [
      "How would You visualize the evolution of Coronavirus cases? Here an animation:\n",
      "What is more logical as fresh graduate , to aim for a data science job or start in other careers, then climb your way to a data scientist job? If the latter, what other careers.\n",
      "What are some of the overlooked skills/habits that aren't \"sexy,\" but are actually really important? I'm referring to the type of thing you wouldn't brag about on your resume but will actually make a huge difference in your day-to-day workflow and the quality of your work.\n",
      "Why Some Companies Want Their Data Scientists to be Good Engineers\n",
      "What is the closest Python equivalent of R's dbplyr?\n",
      "When to use statistical tests?\n",
      "Plotly Bokeh Altair ... oh my! What are you using to share interactive visualisations\n",
      "What business problems are you solving?\n",
      "What's the worst database you've ever worked with?\n",
      "What is Decision Science?\n",
      "How much of your DS role is code development vs working on stats?\n",
      "How to get into political data analytics when I have zero experience?\n",
      "What sites do you follow for Data Science industry news?\n",
      "What is the final deliverable in a data science project\n",
      "Machine Learning - How are images stored?\n",
      "How to gain experience ?\n",
      "Anyone working within an industrial setting? What do you do?\n",
      "What do you use to move data from notebook to notebook?\n",
      "How to make Jupyter Notebook reproducible for those who don't have Anaconda or Jupyter installed?\n",
      "How to better explain my regression project in interviews?\n",
      "Practicing Data Scientists: What are the 3 most frequently used ML algorithms that YOU use in your day-to-day job?\n",
      "I don't know if this would be the sub to ask this but: What are some interesting data points to gather about one's daily life to analyze in the long run as a side project? Does anybody else do this experiment?\n",
      "How to run D-Tale in R with reticulate\n",
      "What’s your tip for a new Data Analyst/Scientist who might not be the best presenter/storyteller?\n",
      "What are your favorite Jupyter extensions?\n",
      "How do you prevent overfitting when building a model?\n",
      "The New Business of AI (and How It's Different From Traditional Software)\n",
      "How “capable” were you in your first ever Data Analyst/Scientist position?\n",
      "How to create this volatility chart for S&P 500?\n",
      "How to make data viz websites? Links provided\n",
      "What's with all the panel interviews?\n",
      "How is the Assisted Modeling feature of Alteryx?\n",
      "Who Won Super Tuesday's Media Coverage. Based On Data\n",
      "How much overlap is there between data engineering and ML engineering positions, and what are the general expectations in each?\n",
      "How to present your project at the job interview\n",
      "Scientists in corporate jobs: How often do you have to build your own data science packages/classes?\n",
      "How to learn features without knowing any to begin with\n",
      "What are the most important functions to learn in Pandas, Numpy & Matplotlib? (Disclaimer: I know it's a very basic question but it will add a lot of value to my learning.)\n",
      "How has AutoML impacted your work?\n",
      "How would I go about understanding throughput on a given day from a dataset consisting of jobs with start times, duration, and count of records processed?\n",
      "How to generate data science projects at work?\n",
      "When to use ARIMA model vs linear regression (or any kind of regression)\n",
      "How do you host your models?\n",
      "How to save sparse pandas dataframe?\n",
      "How do I get better at brain-teaser/guesstimate case study interview questions?\n",
      "What are some good introductory resources regarding data science?\n",
      "How and where do you contribute towards Open Source? New to Open Source.\n",
      "How do you guys make posters and architecture charts for your projects?\n",
      "How did people distribution fit before software?\n",
      "How to measure the effect of promotion on sales?\n",
      "What can we do as data scientists to help with the Coronavirus?\n",
      "How do I create an automated survey software?\n",
      "Have an interview coming up for what would be my first Analyst position. The recruiter also mentioned that this is a new position in the group, they haven't yet had a Data Analyst. What should I know or want to know for the interview?\n",
      "Where I can learn about credit scoring with machine learning?\n",
      "Do data analysts do \"grunt work\" compared to what data scientists do? How do they differ?\n",
      "How to use Groupby with elements in a list in Pyspark?\n",
      "How could a beginner go about obtaining word frequency from PDFs?\n",
      "I have a binary time series problem that has multiple \"datasets\". How do I model it?\n",
      "How to aggregate data from various surveys and reflect them onto one person?\n",
      "How do you make a credit scorecard?\n",
      "What kind of educational background do you need to have to become a data scientist or a data analyst?\n",
      "How to Calibrate a Multi-Class Model\n",
      "Why does loss explode suddenly in a neural network?\n",
      "Who are the most eminent data scientists and where can I find their experienced advice ?\n",
      "What machine learning models have you created for your job?\n",
      "How would you preprocess features like these?\n",
      "What is the recommended partition size for linux?\n",
      "What data science electives one should always take?\n",
      "What makes certain movie quotes memorable? Understanding the paper by Danescu-Niculescu-Mizil et al.\n",
      "How do you create your own Data Science blog\n",
      "How do I transition from Data Analyst to Data Scientist?\n",
      "How can you bin data in pandas? By range\n",
      "How could we (DataScience) help? (COVID19)\n",
      "How do you quantify fun in games?\n",
      "What can I expect for starting salary as a recent grad?\n",
      "How to analyze personal digital diary entries for the last 8 years?\n",
      "What kind of mindset one need to have while learning Data Science from scratch without any coding experience?\n",
      "[Survey] What Data Science course do you want to learn next?\n",
      "Why is disk IO on my new AWS EC2 spot instance so much slower?\n",
      "How big data or data science can be used in political relations?\n",
      "What level of coding is required for entry level data science jobs?\n",
      "When to not choose the highest accuracy model\n",
      "Yet Another Cert Thread: What if I know math and/or stats\n",
      "Hiring Managers, What answers for case study type questions impressed you the most?\n",
      "How do I compute this percentage from the available data? Is this a linear regression? Data science project.\n",
      "How to stay informed about python DS packages coming out ?\n",
      "How many data science skills do you have?\n",
      "How long to hear back from job applications?\n",
      "How to measure progress towards a goal for groups with different number of members?\n",
      "How long will the data analytics trend last ?\n",
      "How do I Showcase My Skills?\n",
      "How to get a Data Scientist job\n",
      "What the heck is a 60-minute phone interview and what should I expect?\n",
      "After apocalyps: What are your data analytics skills needed for?\n",
      "What is the role of R / Python in a world with Tableau/SAC/DOMO, etc…\n",
      "How much potential does big-data backed psychographic microtargeting and psychological nudging techniques have to give the power to influence behavior? (x-post r/AskSocialScience)\n",
      "How to find minimum no of locos to cover maximum miles in a network?\n",
      "How drastic does a MS affect opportunity and pay?\n",
      "What programming language (not necessarily related to data science) have you found yourself organically picking up (or wanting to learn), over the course of your journey in the field?\n",
      "How would you explain Gaussian Process Regression to a child?\n",
      "How do you come with the idea?\n",
      "What kind of chart am I looking for?\n",
      "How to make an impact at a startup\n",
      "What is the difference between Data Engineer and Data Scientists?\n",
      "What's the reasoning behind modeling discrete data with continuous distributions?\n",
      "How to learn Data Science???\n"
     ]
    }
   ],
   "source": [
    "for i in sort_reddit_post_df['Title']:\n",
    "    if (\"What\" in i) or (\"Why\" in i) or (\"How\" in i) or (\"When\" in i) or (\"Where\" in i) or (\"Who\" in i):\n",
    "        print(i)"
   ]
  },
  {
   "cell_type": "code",
   "execution_count": null,
   "metadata": {},
   "outputs": [],
   "source": []
  },
  {
   "cell_type": "code",
   "execution_count": null,
   "metadata": {},
   "outputs": [],
   "source": []
  }
 ],
 "metadata": {
  "kernelspec": {
   "display_name": "Python 3",
   "language": "python",
   "name": "python3"
  },
  "language_info": {
   "codemirror_mode": {
    "name": "ipython",
    "version": 3
   },
   "file_extension": ".py",
   "mimetype": "text/x-python",
   "name": "python",
   "nbconvert_exporter": "python",
   "pygments_lexer": "ipython3",
   "version": "3.7.4"
  }
 },
 "nbformat": 4,
 "nbformat_minor": 2
}

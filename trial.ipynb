{
 "cells": [
  {
   "cell_type": "code",
   "execution_count": 6,
   "metadata": {},
   "outputs": [],
   "source": [
    "import pandas as pd\n",
    "import time\n",
    "\n",
    "global final_reddit_topic_df\n",
    "global top_post_df\n",
    "global dict_topics\n",
    "\n",
    "\n",
    "\n",
    "# Set up the app\n",
    "reddit_post_df = pd.read_csv('500_Topics.csv')\n",
    "sorted_reddit_post_df = reddit_post_df.sort_values(by=['Comment_Num'],ascending=False)\n",
    "final_reddit_post_df = sorted_reddit_post_df.head(5)\n",
    "\n",
    "X_train = final_reddit_post_df.Title"
   ]
  },
  {
   "cell_type": "code",
   "execution_count": 7,
   "metadata": {},
   "outputs": [
    {
     "data": {
      "text/html": [
       "<div>\n",
       "<style scoped>\n",
       "    .dataframe tbody tr th:only-of-type {\n",
       "        vertical-align: middle;\n",
       "    }\n",
       "\n",
       "    .dataframe tbody tr th {\n",
       "        vertical-align: top;\n",
       "    }\n",
       "\n",
       "    .dataframe thead th {\n",
       "        text-align: right;\n",
       "    }\n",
       "</style>\n",
       "<table border=\"1\" class=\"dataframe\">\n",
       "  <thead>\n",
       "    <tr style=\"text-align: right;\">\n",
       "      <th></th>\n",
       "      <th>Title</th>\n",
       "      <th>Score</th>\n",
       "      <th>Id</th>\n",
       "      <th>Url</th>\n",
       "      <th>Comment_Num</th>\n",
       "      <th>Created</th>\n",
       "      <th>Body</th>\n",
       "      <th>timestamp</th>\n",
       "    </tr>\n",
       "  </thead>\n",
       "  <tbody>\n",
       "    <tr>\n",
       "      <td>336</td>\n",
       "      <td>IWTL how to respond when being made fun of</td>\n",
       "      <td>527</td>\n",
       "      <td>fbqduf</td>\n",
       "      <td>https://www.reddit.com/r/IWantToLearn/comments...</td>\n",
       "      <td>111</td>\n",
       "      <td>1.583074e+09</td>\n",
       "      <td>I’m a rather awkward person who doesn’t come u...</td>\n",
       "      <td>2020-03-01 20:22:23</td>\n",
       "    </tr>\n",
       "    <tr>\n",
       "      <td>1</td>\n",
       "      <td>IWTL how to reduce anxiety and worry of corona...</td>\n",
       "      <td>357</td>\n",
       "      <td>fhx4w5</td>\n",
       "      <td>https://www.reddit.com/r/IWantToLearn/comments...</td>\n",
       "      <td>107</td>\n",
       "      <td>1.584122e+09</td>\n",
       "      <td>Hey. As you can see from the title that i want...</td>\n",
       "      <td>2020-03-13 23:18:43</td>\n",
       "    </tr>\n",
       "    <tr>\n",
       "      <td>424</td>\n",
       "      <td>I want to learn how to make new friends as an ...</td>\n",
       "      <td>587</td>\n",
       "      <td>facr6i</td>\n",
       "      <td>https://www.reddit.com/r/IWantToLearn/comments...</td>\n",
       "      <td>104</td>\n",
       "      <td>1.582842e+09</td>\n",
       "      <td>I am 21, I only have a small group of friends ...</td>\n",
       "      <td>2020-02-28 03:50:44</td>\n",
       "    </tr>\n",
       "    <tr>\n",
       "      <td>153</td>\n",
       "      <td>I want to learn how to help people through pan...</td>\n",
       "      <td>469</td>\n",
       "      <td>fet3ol</td>\n",
       "      <td>https://www.reddit.com/r/IWantToLearn/comments...</td>\n",
       "      <td>93</td>\n",
       "      <td>1.583603e+09</td>\n",
       "      <td>So my friend has panic attacks, and I want to ...</td>\n",
       "      <td>2020-03-07 23:18:13</td>\n",
       "    </tr>\n",
       "    <tr>\n",
       "      <td>76</td>\n",
       "      <td>I want to learn how to have energy after work.</td>\n",
       "      <td>540</td>\n",
       "      <td>fg5mf1</td>\n",
       "      <td>https://www.reddit.com/r/IWantToLearn/comments...</td>\n",
       "      <td>80</td>\n",
       "      <td>1.583831e+09</td>\n",
       "      <td>So I work about 7AM-6PM, with maybe an hour br...</td>\n",
       "      <td>2020-03-10 14:40:09</td>\n",
       "    </tr>\n",
       "  </tbody>\n",
       "</table>\n",
       "</div>"
      ],
      "text/plain": [
       "                                                 Title  Score      Id  \\\n",
       "336         IWTL how to respond when being made fun of    527  fbqduf   \n",
       "1    IWTL how to reduce anxiety and worry of corona...    357  fhx4w5   \n",
       "424  I want to learn how to make new friends as an ...    587  facr6i   \n",
       "153  I want to learn how to help people through pan...    469  fet3ol   \n",
       "76      I want to learn how to have energy after work.    540  fg5mf1   \n",
       "\n",
       "                                                   Url  Comment_Num  \\\n",
       "336  https://www.reddit.com/r/IWantToLearn/comments...          111   \n",
       "1    https://www.reddit.com/r/IWantToLearn/comments...          107   \n",
       "424  https://www.reddit.com/r/IWantToLearn/comments...          104   \n",
       "153  https://www.reddit.com/r/IWantToLearn/comments...           93   \n",
       "76   https://www.reddit.com/r/IWantToLearn/comments...           80   \n",
       "\n",
       "          Created                                               Body  \\\n",
       "336  1.583074e+09  I’m a rather awkward person who doesn’t come u...   \n",
       "1    1.584122e+09  Hey. As you can see from the title that i want...   \n",
       "424  1.582842e+09  I am 21, I only have a small group of friends ...   \n",
       "153  1.583603e+09  So my friend has panic attacks, and I want to ...   \n",
       "76   1.583831e+09  So I work about 7AM-6PM, with maybe an hour br...   \n",
       "\n",
       "               timestamp  \n",
       "336  2020-03-01 20:22:23  \n",
       "1    2020-03-13 23:18:43  \n",
       "424  2020-02-28 03:50:44  \n",
       "153  2020-03-07 23:18:13  \n",
       "76   2020-03-10 14:40:09  "
      ]
     },
     "execution_count": 7,
     "metadata": {},
     "output_type": "execute_result"
    }
   ],
   "source": [
    "final_reddit_post_df"
   ]
  },
  {
   "cell_type": "code",
   "execution_count": 8,
   "metadata": {},
   "outputs": [
    {
     "data": {
      "text/plain": [
       "336           IWTL how to respond when being made fun of\n",
       "1      IWTL how to reduce anxiety and worry of corona...\n",
       "424    I want to learn how to make new friends as an ...\n",
       "153    I want to learn how to help people through pan...\n",
       "76        I want to learn how to have energy after work.\n",
       "Name: Title, dtype: object"
      ]
     },
     "execution_count": 8,
     "metadata": {},
     "output_type": "execute_result"
    }
   ],
   "source": [
    "X_train"
   ]
  },
  {
   "cell_type": "code",
   "execution_count": 9,
   "metadata": {},
   "outputs": [],
   "source": [
    "import pandas as pd\n",
    "import numpy as np\n",
    "from sklearn.feature_extraction.text import CountVectorizer\n",
    "\n",
    "vectorizer = CountVectorizer(stop_words='english')"
   ]
  },
  {
   "cell_type": "code",
   "execution_count": 10,
   "metadata": {},
   "outputs": [],
   "source": [
    "X_train_dtm = vectorizer.fit_transform(X_train)"
   ]
  },
  {
   "cell_type": "code",
   "execution_count": null,
   "metadata": {},
   "outputs": [],
   "source": []
  },
  {
   "cell_type": "code",
   "execution_count": 11,
   "metadata": {},
   "outputs": [],
   "source": [
    "vocab = np.array(vectorizer.get_feature_names())"
   ]
  },
  {
   "cell_type": "code",
   "execution_count": 12,
   "metadata": {},
   "outputs": [
    {
     "data": {
      "text/plain": [
       "array(['adult', 'anxiety', 'attacks', 'coronavirus', 'energy', 'friends',\n",
       "       'fun', 'help', 'iwtl', 'learn', 'make', 'new', 'panic', 'people',\n",
       "       'reduce', 'respond', 'want', 'work', 'worry'], dtype='<U11')"
      ]
     },
     "execution_count": 12,
     "metadata": {},
     "output_type": "execute_result"
    }
   ],
   "source": [
    "vocab"
   ]
  },
  {
   "cell_type": "code",
   "execution_count": 13,
   "metadata": {},
   "outputs": [],
   "source": [
    "from sklearn import decomposition\n",
    "\n",
    "num_topics = 5\n",
    "num_top_words = 5\n",
    "NMF_obj = decomposition.NMF(n_components=num_topics, random_state=1)"
   ]
  },
  {
   "cell_type": "code",
   "execution_count": 14,
   "metadata": {},
   "outputs": [
    {
     "data": {
      "text/plain": [
       "(5, 5)"
      ]
     },
     "execution_count": 14,
     "metadata": {},
     "output_type": "execute_result"
    }
   ],
   "source": [
    "document_topics = NMF_obj.fit_transform(X_train_dtm)\n",
    "document_topics.shape"
   ]
  },
  {
   "cell_type": "code",
   "execution_count": 15,
   "metadata": {},
   "outputs": [
    {
     "data": {
      "text/plain": [
       "[['learn', 'want', 'new', 'friends', 'make'],\n",
       " ['worry', 'iwtl', 'anxiety', 'reduce', 'coronavirus'],\n",
       " ['help', 'attacks', 'people', 'panic', 'learn'],\n",
       " ['respond', 'fun', 'iwtl', 'worry', 'anxiety'],\n",
       " ['energy', 'work', 'learn', 'want', 'help']]"
      ]
     },
     "execution_count": 15,
     "metadata": {},
     "output_type": "execute_result"
    }
   ],
   "source": [
    "topics_word =[]\n",
    "for topics in NMF_obj.components_:\n",
    "    word_idx = np.argsort(topics)[::-1][0:num_top_words]\n",
    "    topics_word.append([vocab[i] for i in word_idx])\n",
    "topics_word"
   ]
  },
  {
   "cell_type": "code",
   "execution_count": 16,
   "metadata": {},
   "outputs": [
    {
     "data": {
      "text/html": [
       "<div>\n",
       "<style scoped>\n",
       "    .dataframe tbody tr th:only-of-type {\n",
       "        vertical-align: middle;\n",
       "    }\n",
       "\n",
       "    .dataframe tbody tr th {\n",
       "        vertical-align: top;\n",
       "    }\n",
       "\n",
       "    .dataframe thead tr th {\n",
       "        text-align: left;\n",
       "    }\n",
       "</style>\n",
       "<table border=\"1\" class=\"dataframe\">\n",
       "  <thead>\n",
       "    <tr>\n",
       "      <th></th>\n",
       "      <th>learn</th>\n",
       "      <th>want</th>\n",
       "      <th>new</th>\n",
       "      <th>friends</th>\n",
       "      <th>make</th>\n",
       "    </tr>\n",
       "    <tr>\n",
       "      <th></th>\n",
       "      <th>worry</th>\n",
       "      <th>iwtl</th>\n",
       "      <th>anxiety</th>\n",
       "      <th>reduce</th>\n",
       "      <th>coronavirus</th>\n",
       "    </tr>\n",
       "    <tr>\n",
       "      <th></th>\n",
       "      <th>help</th>\n",
       "      <th>attacks</th>\n",
       "      <th>people</th>\n",
       "      <th>panic</th>\n",
       "      <th>learn</th>\n",
       "    </tr>\n",
       "    <tr>\n",
       "      <th></th>\n",
       "      <th>respond</th>\n",
       "      <th>fun</th>\n",
       "      <th>iwtl</th>\n",
       "      <th>worry</th>\n",
       "      <th>anxiety</th>\n",
       "    </tr>\n",
       "    <tr>\n",
       "      <th></th>\n",
       "      <th>energy</th>\n",
       "      <th>work</th>\n",
       "      <th>learn</th>\n",
       "      <th>want</th>\n",
       "      <th>help</th>\n",
       "    </tr>\n",
       "  </thead>\n",
       "  <tbody>\n",
       "    <tr>\n",
       "      <td>0</td>\n",
       "      <td>0.000000</td>\n",
       "      <td>1.957369e-10</td>\n",
       "      <td>0.000000</td>\n",
       "      <td>1.421826</td>\n",
       "      <td>0.000000</td>\n",
       "    </tr>\n",
       "    <tr>\n",
       "      <td>1</td>\n",
       "      <td>0.000000</td>\n",
       "      <td>1.424040e+00</td>\n",
       "      <td>0.000000</td>\n",
       "      <td>0.000000</td>\n",
       "      <td>0.000000</td>\n",
       "    </tr>\n",
       "    <tr>\n",
       "      <td>2</td>\n",
       "      <td>1.354171</td>\n",
       "      <td>0.000000e+00</td>\n",
       "      <td>0.000000</td>\n",
       "      <td>0.000000</td>\n",
       "      <td>0.000000</td>\n",
       "    </tr>\n",
       "    <tr>\n",
       "      <td>3</td>\n",
       "      <td>0.000002</td>\n",
       "      <td>0.000000e+00</td>\n",
       "      <td>1.622840</td>\n",
       "      <td>0.000000</td>\n",
       "      <td>0.000303</td>\n",
       "    </tr>\n",
       "    <tr>\n",
       "      <td>4</td>\n",
       "      <td>0.000002</td>\n",
       "      <td>0.000000e+00</td>\n",
       "      <td>0.000012</td>\n",
       "      <td>0.000000</td>\n",
       "      <td>1.603916</td>\n",
       "    </tr>\n",
       "  </tbody>\n",
       "</table>\n",
       "</div>"
      ],
      "text/plain": [
       "      learn          want       new   friends        make\n",
       "      worry          iwtl   anxiety    reduce coronavirus\n",
       "       help       attacks    people     panic       learn\n",
       "    respond           fun      iwtl     worry     anxiety\n",
       "     energy          work     learn      want        help\n",
       "0  0.000000  1.957369e-10  0.000000  1.421826    0.000000\n",
       "1  0.000000  1.424040e+00  0.000000  0.000000    0.000000\n",
       "2  1.354171  0.000000e+00  0.000000  0.000000    0.000000\n",
       "3  0.000002  0.000000e+00  1.622840  0.000000    0.000303\n",
       "4  0.000002  0.000000e+00  0.000012  0.000000    1.603916"
      ]
     },
     "execution_count": 16,
     "metadata": {},
     "output_type": "execute_result"
    }
   ],
   "source": [
    "data_frame_topic = pd.DataFrame(document_topics,columns=topics_word)\n",
    "data_frame_topic_inv = data_frame_topic.T\n",
    "data_frame_topic"
   ]
  },
  {
   "cell_type": "code",
   "execution_count": 17,
   "metadata": {},
   "outputs": [
    {
     "data": {
      "text/plain": [
       "learn    worry        help     respond  energy    0.000000e+00\n",
       "want     iwtl         attacks  fun      work      1.957369e-10\n",
       "new      anxiety      people   iwtl     learn     0.000000e+00\n",
       "friends  reduce       panic    worry    want      1.421826e+00\n",
       "make     coronavirus  learn    anxiety  help      0.000000e+00\n",
       "Name: 0, dtype: float64"
      ]
     },
     "execution_count": 17,
     "metadata": {},
     "output_type": "execute_result"
    }
   ],
   "source": [
    "data_frame_topic_inv[0]"
   ]
  },
  {
   "cell_type": "code",
   "execution_count": 18,
   "metadata": {},
   "outputs": [
    {
     "name": "stderr",
     "output_type": "stream",
     "text": [
      "C:\\Users\\OM\\Anaconda3\\lib\\site-packages\\ipykernel_launcher.py:3: FutureWarning: \n",
      "The current behaviour of 'Series.argmax' is deprecated, use 'idxmax'\n",
      "instead.\n",
      "The behavior of 'argmax' will be corrected to return the positional\n",
      "maximum in the future. For now, use 'series.values.argmax' or\n",
      "'np.argmax(np.array(values))' to get the position of the maximum\n",
      "row.\n",
      "  This is separate from the ipykernel package so we can avoid doing imports until\n"
     ]
    }
   ],
   "source": [
    "topics_series = []\n",
    "for i in np.arange(data_frame_topic.shape[0]):\n",
    "    topics_series.append(data_frame_topic_inv[i].argmax())"
   ]
  },
  {
   "cell_type": "code",
   "execution_count": 19,
   "metadata": {},
   "outputs": [
    {
     "data": {
      "text/plain": [
       "[('friends', 'reduce', 'panic', 'worry', 'want'),\n",
       " ('want', 'iwtl', 'attacks', 'fun', 'work'),\n",
       " ('learn', 'worry', 'help', 'respond', 'energy'),\n",
       " ('new', 'anxiety', 'people', 'iwtl', 'learn'),\n",
       " ('make', 'coronavirus', 'learn', 'anxiety', 'help')]"
      ]
     },
     "execution_count": 19,
     "metadata": {},
     "output_type": "execute_result"
    }
   ],
   "source": [
    "topics_series"
   ]
  },
  {
   "cell_type": "code",
   "execution_count": 20,
   "metadata": {},
   "outputs": [
    {
     "name": "stderr",
     "output_type": "stream",
     "text": [
      "C:\\Users\\OM\\Anaconda3\\lib\\site-packages\\ipykernel_launcher.py:2: SettingWithCopyWarning: \n",
      "A value is trying to be set on a copy of a slice from a DataFrame.\n",
      "Try using .loc[row_indexer,col_indexer] = value instead\n",
      "\n",
      "See the caveats in the documentation: http://pandas.pydata.org/pandas-docs/stable/user_guide/indexing.html#returning-a-view-versus-a-copy\n",
      "  \n"
     ]
    },
    {
     "data": {
      "text/html": [
       "<div>\n",
       "<style scoped>\n",
       "    .dataframe tbody tr th:only-of-type {\n",
       "        vertical-align: middle;\n",
       "    }\n",
       "\n",
       "    .dataframe tbody tr th {\n",
       "        vertical-align: top;\n",
       "    }\n",
       "\n",
       "    .dataframe thead tr th {\n",
       "        text-align: left;\n",
       "    }\n",
       "</style>\n",
       "<table border=\"1\" class=\"dataframe\">\n",
       "  <thead>\n",
       "    <tr>\n",
       "      <th></th>\n",
       "      <th>learn</th>\n",
       "      <th>want</th>\n",
       "      <th>new</th>\n",
       "      <th>friends</th>\n",
       "      <th>make</th>\n",
       "      <th>Dominant_Topic</th>\n",
       "    </tr>\n",
       "    <tr>\n",
       "      <th></th>\n",
       "      <th>worry</th>\n",
       "      <th>iwtl</th>\n",
       "      <th>anxiety</th>\n",
       "      <th>reduce</th>\n",
       "      <th>coronavirus</th>\n",
       "      <th></th>\n",
       "    </tr>\n",
       "    <tr>\n",
       "      <th></th>\n",
       "      <th>help</th>\n",
       "      <th>attacks</th>\n",
       "      <th>people</th>\n",
       "      <th>panic</th>\n",
       "      <th>learn</th>\n",
       "      <th></th>\n",
       "    </tr>\n",
       "    <tr>\n",
       "      <th></th>\n",
       "      <th>respond</th>\n",
       "      <th>fun</th>\n",
       "      <th>iwtl</th>\n",
       "      <th>worry</th>\n",
       "      <th>anxiety</th>\n",
       "      <th></th>\n",
       "    </tr>\n",
       "    <tr>\n",
       "      <th></th>\n",
       "      <th>energy</th>\n",
       "      <th>work</th>\n",
       "      <th>learn</th>\n",
       "      <th>want</th>\n",
       "      <th>help</th>\n",
       "      <th></th>\n",
       "    </tr>\n",
       "  </thead>\n",
       "  <tbody>\n",
       "    <tr>\n",
       "      <td>0</td>\n",
       "      <td>0.000000</td>\n",
       "      <td>1.957369e-10</td>\n",
       "      <td>0.000000</td>\n",
       "      <td>1.421826</td>\n",
       "      <td>0.000000</td>\n",
       "      <td>(friends, reduce, panic, worry, want)</td>\n",
       "    </tr>\n",
       "    <tr>\n",
       "      <td>1</td>\n",
       "      <td>0.000000</td>\n",
       "      <td>1.424040e+00</td>\n",
       "      <td>0.000000</td>\n",
       "      <td>0.000000</td>\n",
       "      <td>0.000000</td>\n",
       "      <td>(want, iwtl, attacks, fun, work)</td>\n",
       "    </tr>\n",
       "    <tr>\n",
       "      <td>2</td>\n",
       "      <td>1.354171</td>\n",
       "      <td>0.000000e+00</td>\n",
       "      <td>0.000000</td>\n",
       "      <td>0.000000</td>\n",
       "      <td>0.000000</td>\n",
       "      <td>(learn, worry, help, respond, energy)</td>\n",
       "    </tr>\n",
       "    <tr>\n",
       "      <td>3</td>\n",
       "      <td>0.000002</td>\n",
       "      <td>0.000000e+00</td>\n",
       "      <td>1.622840</td>\n",
       "      <td>0.000000</td>\n",
       "      <td>0.000303</td>\n",
       "      <td>(new, anxiety, people, iwtl, learn)</td>\n",
       "    </tr>\n",
       "    <tr>\n",
       "      <td>4</td>\n",
       "      <td>0.000002</td>\n",
       "      <td>0.000000e+00</td>\n",
       "      <td>0.000012</td>\n",
       "      <td>0.000000</td>\n",
       "      <td>1.603916</td>\n",
       "      <td>(make, coronavirus, learn, anxiety, help)</td>\n",
       "    </tr>\n",
       "  </tbody>\n",
       "</table>\n",
       "</div>"
      ],
      "text/plain": [
       "      learn          want       new   friends        make  \\\n",
       "      worry          iwtl   anxiety    reduce coronavirus   \n",
       "       help       attacks    people     panic       learn   \n",
       "    respond           fun      iwtl     worry     anxiety   \n",
       "     energy          work     learn      want        help   \n",
       "0  0.000000  1.957369e-10  0.000000  1.421826    0.000000   \n",
       "1  0.000000  1.424040e+00  0.000000  0.000000    0.000000   \n",
       "2  1.354171  0.000000e+00  0.000000  0.000000    0.000000   \n",
       "3  0.000002  0.000000e+00  1.622840  0.000000    0.000303   \n",
       "4  0.000002  0.000000e+00  0.000012  0.000000    1.603916   \n",
       "\n",
       "                              Dominant_Topic  \n",
       "                                              \n",
       "                                              \n",
       "                                              \n",
       "                                              \n",
       "0      (friends, reduce, panic, worry, want)  \n",
       "1           (want, iwtl, attacks, fun, work)  \n",
       "2      (learn, worry, help, respond, energy)  \n",
       "3        (new, anxiety, people, iwtl, learn)  \n",
       "4  (make, coronavirus, learn, anxiety, help)  "
      ]
     },
     "execution_count": 20,
     "metadata": {},
     "output_type": "execute_result"
    }
   ],
   "source": [
    "data_frame_topic['Dominant_Topic'] = topics_series\n",
    "final_reddit_post_df['Dominant_Topic'] = topics_series\n",
    "data_frame_topic\n",
    "#final_reddit_post_df"
   ]
  },
  {
   "cell_type": "code",
   "execution_count": 21,
   "metadata": {},
   "outputs": [
    {
     "data": {
      "text/html": [
       "<div>\n",
       "<style scoped>\n",
       "    .dataframe tbody tr th:only-of-type {\n",
       "        vertical-align: middle;\n",
       "    }\n",
       "\n",
       "    .dataframe tbody tr th {\n",
       "        vertical-align: top;\n",
       "    }\n",
       "\n",
       "    .dataframe thead th {\n",
       "        text-align: right;\n",
       "    }\n",
       "</style>\n",
       "<table border=\"1\" class=\"dataframe\">\n",
       "  <thead>\n",
       "    <tr style=\"text-align: right;\">\n",
       "      <th></th>\n",
       "      <th>Title</th>\n",
       "      <th>Score</th>\n",
       "      <th>Id</th>\n",
       "      <th>Url</th>\n",
       "      <th>Comment_Num</th>\n",
       "      <th>Created</th>\n",
       "      <th>Body</th>\n",
       "      <th>timestamp</th>\n",
       "      <th>Dominant_Topic</th>\n",
       "    </tr>\n",
       "  </thead>\n",
       "  <tbody>\n",
       "    <tr>\n",
       "      <td>336</td>\n",
       "      <td>IWTL how to respond when being made fun of</td>\n",
       "      <td>527</td>\n",
       "      <td>fbqduf</td>\n",
       "      <td>https://www.reddit.com/r/IWantToLearn/comments...</td>\n",
       "      <td>111</td>\n",
       "      <td>1.583074e+09</td>\n",
       "      <td>I’m a rather awkward person who doesn’t come u...</td>\n",
       "      <td>2020-03-01 20:22:23</td>\n",
       "      <td>(friends, reduce, panic, worry, want)</td>\n",
       "    </tr>\n",
       "    <tr>\n",
       "      <td>1</td>\n",
       "      <td>IWTL how to reduce anxiety and worry of corona...</td>\n",
       "      <td>357</td>\n",
       "      <td>fhx4w5</td>\n",
       "      <td>https://www.reddit.com/r/IWantToLearn/comments...</td>\n",
       "      <td>107</td>\n",
       "      <td>1.584122e+09</td>\n",
       "      <td>Hey. As you can see from the title that i want...</td>\n",
       "      <td>2020-03-13 23:18:43</td>\n",
       "      <td>(want, iwtl, attacks, fun, work)</td>\n",
       "    </tr>\n",
       "    <tr>\n",
       "      <td>424</td>\n",
       "      <td>I want to learn how to make new friends as an ...</td>\n",
       "      <td>587</td>\n",
       "      <td>facr6i</td>\n",
       "      <td>https://www.reddit.com/r/IWantToLearn/comments...</td>\n",
       "      <td>104</td>\n",
       "      <td>1.582842e+09</td>\n",
       "      <td>I am 21, I only have a small group of friends ...</td>\n",
       "      <td>2020-02-28 03:50:44</td>\n",
       "      <td>(learn, worry, help, respond, energy)</td>\n",
       "    </tr>\n",
       "    <tr>\n",
       "      <td>153</td>\n",
       "      <td>I want to learn how to help people through pan...</td>\n",
       "      <td>469</td>\n",
       "      <td>fet3ol</td>\n",
       "      <td>https://www.reddit.com/r/IWantToLearn/comments...</td>\n",
       "      <td>93</td>\n",
       "      <td>1.583603e+09</td>\n",
       "      <td>So my friend has panic attacks, and I want to ...</td>\n",
       "      <td>2020-03-07 23:18:13</td>\n",
       "      <td>(new, anxiety, people, iwtl, learn)</td>\n",
       "    </tr>\n",
       "    <tr>\n",
       "      <td>76</td>\n",
       "      <td>I want to learn how to have energy after work.</td>\n",
       "      <td>540</td>\n",
       "      <td>fg5mf1</td>\n",
       "      <td>https://www.reddit.com/r/IWantToLearn/comments...</td>\n",
       "      <td>80</td>\n",
       "      <td>1.583831e+09</td>\n",
       "      <td>So I work about 7AM-6PM, with maybe an hour br...</td>\n",
       "      <td>2020-03-10 14:40:09</td>\n",
       "      <td>(make, coronavirus, learn, anxiety, help)</td>\n",
       "    </tr>\n",
       "  </tbody>\n",
       "</table>\n",
       "</div>"
      ],
      "text/plain": [
       "                                                 Title  Score      Id  \\\n",
       "336         IWTL how to respond when being made fun of    527  fbqduf   \n",
       "1    IWTL how to reduce anxiety and worry of corona...    357  fhx4w5   \n",
       "424  I want to learn how to make new friends as an ...    587  facr6i   \n",
       "153  I want to learn how to help people through pan...    469  fet3ol   \n",
       "76      I want to learn how to have energy after work.    540  fg5mf1   \n",
       "\n",
       "                                                   Url  Comment_Num  \\\n",
       "336  https://www.reddit.com/r/IWantToLearn/comments...          111   \n",
       "1    https://www.reddit.com/r/IWantToLearn/comments...          107   \n",
       "424  https://www.reddit.com/r/IWantToLearn/comments...          104   \n",
       "153  https://www.reddit.com/r/IWantToLearn/comments...           93   \n",
       "76   https://www.reddit.com/r/IWantToLearn/comments...           80   \n",
       "\n",
       "          Created                                               Body  \\\n",
       "336  1.583074e+09  I’m a rather awkward person who doesn’t come u...   \n",
       "1    1.584122e+09  Hey. As you can see from the title that i want...   \n",
       "424  1.582842e+09  I am 21, I only have a small group of friends ...   \n",
       "153  1.583603e+09  So my friend has panic attacks, and I want to ...   \n",
       "76   1.583831e+09  So I work about 7AM-6PM, with maybe an hour br...   \n",
       "\n",
       "               timestamp                             Dominant_Topic  \n",
       "336  2020-03-01 20:22:23      (friends, reduce, panic, worry, want)  \n",
       "1    2020-03-13 23:18:43           (want, iwtl, attacks, fun, work)  \n",
       "424  2020-02-28 03:50:44      (learn, worry, help, respond, energy)  \n",
       "153  2020-03-07 23:18:13        (new, anxiety, people, iwtl, learn)  \n",
       "76   2020-03-10 14:40:09  (make, coronavirus, learn, anxiety, help)  "
      ]
     },
     "execution_count": 21,
     "metadata": {},
     "output_type": "execute_result"
    }
   ],
   "source": [
    "final_reddit_post_df"
   ]
  },
  {
   "cell_type": "code",
   "execution_count": 22,
   "metadata": {},
   "outputs": [
    {
     "name": "stderr",
     "output_type": "stream",
     "text": [
      "C:\\Users\\OM\\Anaconda3\\lib\\site-packages\\ipykernel_launcher.py:1: FutureWarning: \n",
      "The current behaviour of 'Series.argmax' is deprecated, use 'idxmax'\n",
      "instead.\n",
      "The behavior of 'argmax' will be corrected to return the positional\n",
      "maximum in the future. For now, use 'series.values.argmax' or\n",
      "'np.argmax(np.array(values))' to get the position of the maximum\n",
      "row.\n",
      "  \"\"\"Entry point for launching an IPython kernel.\n"
     ]
    },
    {
     "data": {
      "text/plain": [
       "('friends', 'reduce', 'panic', 'worry', 'want')"
      ]
     },
     "execution_count": 22,
     "metadata": {},
     "output_type": "execute_result"
    }
   ],
   "source": [
    "data_frame_topic_inv[0].argmax()"
   ]
  },
  {
   "cell_type": "code",
   "execution_count": 24,
   "metadata": {},
   "outputs": [
    {
     "data": {
      "text/plain": [
       "array([('friends', 'reduce', 'panic', 'worry', 'want'),\n",
       "       ('want', 'iwtl', 'attacks', 'fun', 'work'),\n",
       "       ('learn', 'worry', 'help', 'respond', 'energy'),\n",
       "       ('new', 'anxiety', 'people', 'iwtl', 'learn'),\n",
       "       ('make', 'coronavirus', 'learn', 'anxiety', 'help')], dtype=object)"
      ]
     },
     "execution_count": 24,
     "metadata": {},
     "output_type": "execute_result"
    }
   ],
   "source": [
    "uni_list = final_reddit_post_df.Dominant_Topic.unique()\n",
    "uni_list"
   ]
  },
  {
   "cell_type": "code",
   "execution_count": null,
   "metadata": {},
   "outputs": [],
   "source": []
  }
 ],
 "metadata": {
  "kernelspec": {
   "display_name": "Python 3",
   "language": "python",
   "name": "python3"
  },
  "language_info": {
   "codemirror_mode": {
    "name": "ipython",
    "version": 3
   },
   "file_extension": ".py",
   "mimetype": "text/x-python",
   "name": "python",
   "nbconvert_exporter": "python",
   "pygments_lexer": "ipython3",
   "version": "3.7.4"
  }
 },
 "nbformat": 4,
 "nbformat_minor": 2
}

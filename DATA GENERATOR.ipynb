{
 "cells": [
  {
   "cell_type": "code",
   "execution_count": 1,
   "metadata": {},
   "outputs": [],
   "source": [
    "#Credentials Details for Reddit API\n",
    "client_id = '3S1oc6Zp2RYQmw'\n",
    "client_secret= 'rqmDyE5gcGf4Fv7mjCH4d7Cg4NM'\n",
    "username='takao13'\n",
    "password='P1zzahut'\n",
    "user_agent='autogenfaqv1'"
   ]
  },
  {
   "cell_type": "code",
   "execution_count": 2,
   "metadata": {},
   "outputs": [],
   "source": [
    "import praw"
   ]
  },
  {
   "cell_type": "code",
   "execution_count": 3,
   "metadata": {},
   "outputs": [],
   "source": [
    "reddit = praw.Reddit(client_id = client_id,\n",
    "                     client_secret= client_secret,\n",
    "                    username=username,\n",
    "                    password=password,\n",
    "                     user_agent=user_agent)"
   ]
  },
  {
   "cell_type": "code",
   "execution_count": 4,
   "metadata": {},
   "outputs": [],
   "source": [
    "sub_Reddit = reddit.subreddit('datascience')\n",
    "hot_500_Python = sub_Reddit.hot(limit=500)"
   ]
  },
  {
   "cell_type": "code",
   "execution_count": 5,
   "metadata": {},
   "outputs": [
    {
     "data": {
      "text/plain": [
       "'for posts in hot_500_Python:\\n    if not posts.stickied:\\n        print(\\'Title : {},Ups : {},Downs : {},Visited : {}\\'.format(posts.title,posts.ups,posts.downs,posts.visited))\\n        comments = posts.comments\\n        for comment in comments:\\n            print(\"********************\")\\n            print(comment.body)\\n            if len(comment.replies)>0:\\n                for reply in comment.replies:\\n                    print(\\'Reply: \\',reply.body)'"
      ]
     },
     "execution_count": 5,
     "metadata": {},
     "output_type": "execute_result"
    }
   ],
   "source": [
    "'''for posts in hot_500_Python:\n",
    "    if not posts.stickied:\n",
    "        print('Title : {},Ups : {},Downs : {},Visited : {}'.format(posts.title,posts.ups,posts.downs,posts.visited))\n",
    "        comments = posts.comments\n",
    "        for comment in comments:\n",
    "            print(\"********************\")\n",
    "            print(comment.body)\n",
    "            if len(comment.replies)>0:\n",
    "                for reply in comment.replies:\n",
    "                    print('Reply: ',reply.body)'''"
   ]
  },
  {
   "cell_type": "code",
   "execution_count": 6,
   "metadata": {},
   "outputs": [],
   "source": [
    "dict_top = {\"Title\":[],\"Score\":[],\"Id\":[],\"Url\":[],\"Comment_Num\":[],\"Created\":[],\"Body\":[]}\n",
    "for posts in hot_500_Python:\n",
    "    dict_top[\"Id\"].append(posts.id)\n",
    "    dict_top[\"Url\"].append(posts.url)\n",
    "    dict_top[\"Title\"].append(posts.title)\n",
    "    dict_top[\"Score\"].append(posts.score)\n",
    "    dict_top[\"Body\"].append(posts.selftext)\n",
    "    dict_top[\"Created\"].append(posts.created)\n",
    "    dict_top[\"Comment_Num\"].append(posts.num_comments)"
   ]
  },
  {
   "cell_type": "code",
   "execution_count": null,
   "metadata": {},
   "outputs": [],
   "source": []
  },
  {
   "cell_type": "code",
   "execution_count": 7,
   "metadata": {},
   "outputs": [],
   "source": [
    "import datetime as dt\n",
    "import pandas as pd\n",
    "topic_data = pd.DataFrame(dict_top)\n"
   ]
  },
  {
   "cell_type": "code",
   "execution_count": 8,
   "metadata": {},
   "outputs": [],
   "source": [
    "def get_date(created):\n",
    "    return dt.datetime.fromtimestamp(created)\n",
    "\n",
    "_timestamp = topic_data[\"Created\"].apply(get_date)\n",
    "topic_data = topic_data.assign(timestamp = _timestamp)\n",
    "topic_data.to_csv('500_Topics.csv',index=False)  "
   ]
  },
  {
   "cell_type": "code",
   "execution_count": null,
   "metadata": {},
   "outputs": [],
   "source": []
  },
  {
   "cell_type": "code",
   "execution_count": null,
   "metadata": {},
   "outputs": [],
   "source": []
  }
 ],
 "metadata": {
  "kernelspec": {
   "display_name": "Python 3",
   "language": "python",
   "name": "python3"
  },
  "language_info": {
   "codemirror_mode": {
    "name": "ipython",
    "version": 3
   },
   "file_extension": ".py",
   "mimetype": "text/x-python",
   "name": "python",
   "nbconvert_exporter": "python",
   "pygments_lexer": "ipython3",
   "version": "3.7.4"
  }
 },
 "nbformat": 4,
 "nbformat_minor": 2
}
